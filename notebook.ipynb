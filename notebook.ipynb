{
 "cells": [
  {
   "cell_type": "code",
   "execution_count": 16,
   "metadata": {
    "collapsed": true
   },
   "outputs": [],
   "source": [
    "from PIL import Image, ImageFont, ImageDraw\n",
    "import numpy as np\n",
    "import cv2"
   ]
  },
  {
   "cell_type": "code",
   "execution_count": 23,
   "metadata": {},
   "outputs": [],
   "source": [
    "class Rect:\n",
    "    def __init__(self, x0, y0, x1, y1, x2, y2, x3, y3):\n",
    "        self.x0 = x0\n",
    "        self.y0 = y0\n",
    "        self.x1 = x1\n",
    "        self.y1 = y1\n",
    "        self.x2 = x2\n",
    "        self.y2 = y2\n",
    "        self.x3 = x3\n",
    "        self.y3 = y3\n",
    "\n",
    "    def __repr__(self):\n",
    "        return \"x0: %s, y0: %s, x1: %s, y1: %s, x2: %s, y2: %s, x3: %s, y3: %s\" % \\\n",
    "               (self.x0, self.y0, self.x1, self.y1, self.x2, self.y2, self.x3, self.y3)"
   ]
  },
  {
   "cell_type": "code",
   "execution_count": 24,
   "metadata": {},
   "outputs": [],
   "source": [
    "class CharImageGenerator:\n",
    "    def __init__(self, font_file, font_size, image_size, font_color=(0, 0, 0), draw_borders=False):\n",
    "        \"\"\"\n",
    "        :param font_file: string - путь до файла шрифта\n",
    "        :param font_size: int - размер шрифта\n",
    "        :param font_color: (b, g, r) - цвет шрифта\n",
    "        :param image_size: int - размер выходного изображения с текстом\n",
    "        :param draw_borders: bool - рисовать границы буквы или нет\n",
    "        \"\"\"\n",
    "        self._font_file = font_file\n",
    "        self._font_size = font_size\n",
    "        self._font_color = font_color\n",
    "        self._image_size = image_size\n",
    "        self._draw_borders = draw_borders\n",
    "\n",
    "    def char_to_image(self, char):\n",
    "        \"\"\"\n",
    "        Создать картинку с буквой\n",
    "        :param char: string\n",
    "        :return: (Image, Rect) - картинка и координаты буквы на ней\n",
    "        \"\"\"\n",
    "        font = ImageFont.truetype(self._font_file, self._font_size)\n",
    "        width, height = font.getsize(char)\n",
    "        bg_color = (255, 255, 255, 0)\n",
    "\n",
    "        x = (self._image_size - width) / 2\n",
    "        y = (self._image_size - height) / 2\n",
    "\n",
    "        image = Image.new(\"RGBA\", (self._image_size, self._image_size), bg_color)\n",
    "        draw = ImageDraw.Draw(image)\n",
    "\n",
    "        draw.text((x, y), char, self._font_color, font=font)\n",
    "\n",
    "        frame = np.array(image)\n",
    "        y_idx, x_idx, _ = np.where(np.not_equal(frame, bg_color))\n",
    "        x0 = np.min(x_idx)\n",
    "        x1 = np.max(x_idx)\n",
    "        y0 = np.min(y_idx)\n",
    "        y1 = np.max(y_idx)\n",
    "\n",
    "        if self._draw_borders:\n",
    "            draw.rectangle(((x0, y0), (x1, y1)), fill=\"red\")\n",
    "            draw.text((x, y), char, self._font_color, font=font)\n",
    "\n",
    "        # размытие\n",
    "        image = Image.fromarray(cv2.blur(np.array(image), (5, 5)))\n",
    "\n",
    "        return image, Rect(x0, y0, x1, y0, x0, y1,  x1, y1)\n",
    "\n",
    "    def add_background(self, img, bg_img_path):\n",
    "        \"\"\"\n",
    "        :param img: Image - изображение, которое нужно наложить на фон\n",
    "        :param bg_img_path: string - путь до изображения с фоном\n",
    "        :return: Image\n",
    "        \"\"\"\n",
    "        result = Image.new(\"RGBA\", (self._image_size, self._image_size))\n",
    "        bg_img = Image.open(bg_img_path)\n",
    "        result.paste(bg_img, (0, 0))\n",
    "        result.paste(img, (0, 0), img)\n",
    "        return result"
   ]
  },
  {
   "cell_type": "code",
   "execution_count": 25,
   "metadata": {},
   "outputs": [],
   "source": [
    "class CharImageGeneratorWithHomography(CharImageGenerator):\n",
    "    @staticmethod\n",
    "    def apply_homography(image, rect):\n",
    "        \"\"\"\n",
    "        Применить гомографию.\n",
    "        :param image: Image - исходное изображение\n",
    "        :param rect: Rect - четырехугольник буквы в изображении\n",
    "        :return (Image, Rect):\n",
    "        \"\"\"\n",
    "        # трапеция\n",
    "        src_points = np.array([[rect.x0, rect.y0],\n",
    "                                   [rect.x1, rect.y1],\n",
    "                                   [rect.x2, rect.y2],\n",
    "                                   [rect.x3, rect.y3]])\n",
    "    \n",
    "        dst_points = np.array([[rect.x0 + 10, rect.y0],\n",
    "                               [rect.x1 - 10, rect.y1],\n",
    "                               [rect.x2 - 20, rect.y2],\n",
    "                               [rect.x3 + 20, rect.y3]])\n",
    "        \n",
    "        image = np.array(image)\n",
    "        h, status = cv2.findHomography(src_points, dst_points)\n",
    "        img_dst = cv2.warpPerspective(image, h, (image.shape[0], image.shape[1]))\n",
    "\n",
    "        rect_dst = Rect(*dst_points.flatten())\n",
    "\n",
    "        return Image.fromarray(img_dst), rect_dst "
   ]
  },
  {
   "cell_type": "code",
   "execution_count": 22,
   "metadata": {},
   "outputs": [
    {
     "name": "stdout",
     "output_type": "stream",
     "text": [
      " ��� � ���ன�⢥ C ����� ���� Windows\n ��਩�� ����� ⮬�: 3AB8-66A9\n\n ����ন��� ����� C:\\Users\\soin\\stuff\\repos\\fonts\n\n2018/04/30  01:24 AM    <DIR>          .\n2018/04/30  01:24 AM    <DIR>          ..\n2018/03/07  02:28 AM             2,475 .gitignore\n2018/04/30  01:23 AM    <DIR>          .idea\n2018/04/26  10:15 AM            41,753 bg.png\n2018/04/30  01:01 AM               508 demo.py\n2018/04/30  01:24 AM            41,753 final.png\n2018/03/07  01:04 AM    <DIR>          fonts\n2018/03/15  01:16 AM             2,600 img.png\n2018/03/15  01:16 AM                13 img.txt\n2018/04/30  01:23 AM             7,181 notebook.ipynb\n2018/04/26  02:12 AM            70,855 pattern.jpg\n2018/04/26  09:29 AM            13,263 qq.png\n2018/03/07  02:21 AM    <DIR>          result\n               9 䠩���        180,401 ����\n               5 �����  14,338,641,920 ���� ᢮�����\n"
     ]
    }
   ],
   "source": [
    "!dir"
   ]
  },
  {
   "cell_type": "code",
   "execution_count": 28,
   "metadata": {},
   "outputs": [],
   "source": [
    "# Использование:\n",
    "generator = CharImageGeneratorWithHomography(font_file=\"fonts/Stay Wildy.ttf\",\n",
    "                                             font_size=200,\n",
    "                                             image_size=200,\n",
    "                                             font_color=(11, 14, 12),\n",
    "                                             draw_borders=True)\n",
    "\n",
    "img, rect = generator.char_to_image(\"Q\")\n",
    "img, rect = generator.apply_homography(img, rect)\n",
    "img = generator.add_background(img, 'pattern.jpg')\n",
    "img.save('final.png', format='png')\n",
    "    "
   ]
  }
 ],
 "metadata": {
  "kernelspec": {
   "display_name": "Python 2",
   "language": "python",
   "name": "python2"
  },
  "language_info": {
   "codemirror_mode": {
    "name": "ipython",
    "version": 2
   },
   "file_extension": ".py",
   "mimetype": "text/x-python",
   "name": "python",
   "nbconvert_exporter": "python",
   "pygments_lexer": "ipython2",
   "version": "2.7.6"
  }
 },
 "nbformat": 4,
 "nbformat_minor": 0
}
